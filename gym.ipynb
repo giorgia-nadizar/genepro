{
 "cells": [
  {
   "cell_type": "code",
   "execution_count": 11,
   "metadata": {},
   "outputs": [],
   "source": [
    "# requires gym, pygame\n",
    "import gym, os\n",
    "from genepro.node_impl import *\n",
    "from genepro.evo import Evolution\n",
    "\n",
    "# Set up the environment in which experiments will take place\n",
    "env_name = \"CartPole-v1\"\n",
    "env = gym.make(env_name)\n",
    "\n",
    "# Let's set up the possible nodes for GP\n",
    "num_features = env.observation_space.shape[0] + 1 # observations from environment + action at time t-1\n",
    "leaf_nodes = [Feature(i) for i in range(num_features)]\n",
    "leaf_nodes = leaf_nodes + [Constant()] # allow to use random constants\n",
    "internal_nodes = [Plus(),Minus(),Times(),Div(),Log()]\n",
    "\n",
    "# create a fitness function for that environment\n",
    "def fitness_function(tree, num_episodes=10, episode_duration=500, render=False, ignore_done=False):\n",
    "  rewards = list()\n",
    "  durations = list()\n",
    "  for _ in range(num_episodes):\n",
    "    # get initial state\n",
    "    observation = env.reset()\n",
    "    # we do not have an action at time -1, let's set it randomly\n",
    "    action = env.action_space.sample()\n",
    "    for t in range(episode_duration):\n",
    "      if render:\n",
    "        env.render()\n",
    "      # build up the input sample for GP\n",
    "      input_sample = np.concatenate((observation, [action])).reshape((1,-1))\n",
    "      # get output (squeezing because it is encapsulated in an array)\n",
    "      output = tree.get_output(input_sample).astype(float).squeeze()\n",
    "      action = 0 if output < .5 else 1\n",
    "      observation, reward, done, _ = env.step(action)\n",
    "      rewards.append(reward)\n",
    "      if done and not ignore_done:\n",
    "        break\n",
    "    # keep track of how long this lasted\n",
    "    durations.append(t)\n",
    "\n",
    "  # compute and return fitness\n",
    "  fitness = np.sum(rewards)\n",
    "  return fitness\n"
   ]
  },
  {
   "cell_type": "code",
   "execution_count": 12,
   "metadata": {},
   "outputs": [
    {
     "name": "stdout",
     "output_type": "stream",
     "text": [
      "gen: 1,\tbest of gen fitness: 1126.000,\tbest of gen size: 16\n",
      "gen: 2,\tbest of gen fitness: 873.000,\tbest of gen size: 16\n",
      "gen: 3,\tbest of gen fitness: 1090.000,\tbest of gen size: 19\n",
      "gen: 4,\tbest of gen fitness: 4673.000,\tbest of gen size: 21\n",
      "gen: 5,\tbest of gen fitness: 3876.000,\tbest of gen size: 21\n",
      "gen: 6,\tbest of gen fitness: 4764.000,\tbest of gen size: 21\n",
      "gen: 7,\tbest of gen fitness: 5000.000,\tbest of gen size: 21\n",
      "gen: 8,\tbest of gen fitness: 5000.000,\tbest of gen size: 21\n",
      "gen: 9,\tbest of gen fitness: 5000.000,\tbest of gen size: 30\n",
      "gen: 10,\tbest of gen fitness: 5000.000,\tbest of gen size: 21\n",
      "gen: 11,\tbest of gen fitness: 5000.000,\tbest of gen size: 21\n",
      "gen: 12,\tbest of gen fitness: 5000.000,\tbest of gen size: 23\n",
      "gen: 13,\tbest of gen fitness: 5000.000,\tbest of gen size: 28\n",
      "gen: 14,\tbest of gen fitness: 5000.000,\tbest of gen size: 27\n",
      "gen: 15,\tbest of gen fitness: 5000.000,\tbest of gen size: 27\n",
      "gen: 16,\tbest of gen fitness: 5000.000,\tbest of gen size: 28\n",
      "gen: 17,\tbest of gen fitness: 5000.000,\tbest of gen size: 27\n",
      "gen: 18,\tbest of gen fitness: 5000.000,\tbest of gen size: 27\n",
      "gen: 19,\tbest of gen fitness: 5000.000,\tbest of gen size: 23\n",
      "gen: 20,\tbest of gen fitness: 5000.000,\tbest of gen size: 27\n"
     ]
    }
   ],
   "source": [
    "# set up and run the evolution\n",
    "evo = Evolution(\n",
    "  fitness_function, internal_nodes, leaf_nodes, \n",
    "  pop_size=128,\n",
    "  max_gens=20,\n",
    "  max_tree_size=31,\n",
    "  n_jobs=4,\n",
    "  verbose=True)\n",
    "evo.evolve()"
   ]
  },
  {
   "cell_type": "code",
   "execution_count": 13,
   "metadata": {},
   "outputs": [
    {
     "name": "stdout",
     "output_type": "stream",
     "text": [
      "((((x0/x0)+x4)+(x3+(x2*x3)))*(((((x2+x3)*log(abs(x2)))*log(abs(x3)))*log(abs(x2)))*log(abs(x3))))\n"
     ]
    }
   ],
   "source": [
    "# fetch elite\n",
    "best = evo.best_of_gens[-1]\n",
    "print(best.get_readable_repr())"
   ]
  },
  {
   "cell_type": "code",
   "execution_count": 14,
   "metadata": {},
   "outputs": [
    {
     "name": "stdout",
     "output_type": "stream",
     "text": [
      "(x2 + x3)*(x2*x3 + x3 + x4 + 1)*log(abs(x2))**2*log(abs(x3))**2\n"
     ]
    }
   ],
   "source": [
    "# see simplified representation (if possible, i.e., symbols are compatible)\n",
    "from sympy import simplify\n",
    "simpl_repr = simplify(best.get_readable_repr())\n",
    "print(simpl_repr)"
   ]
  },
  {
   "cell_type": "code",
   "execution_count": 16,
   "metadata": {},
   "outputs": [
    {
     "name": "stderr",
     "output_type": "stream",
     "text": [
      "\n"
     ]
    },
    {
     "data": {
      "text/plain": [
       "0"
      ]
     },
     "execution_count": 16,
     "metadata": {},
     "output_type": "execute_result"
    }
   ],
   "source": [
    "# you can try the line below, but does not work on some machines\n",
    "#fitness_function(elite, num_episodes=3, episode_duration=1000, render=True, ignore_done=True)\n",
    "\n",
    "# alternatively, what follows uses an external evaluation script\n",
    "os.system(\"python run_gym_tree.py '\"+str(best.get_subtree())+\"'\")"
   ]
  }
 ],
 "metadata": {
  "interpreter": {
   "hash": "9e33dabc7fb6c6fea60fae1ae2de67b2e6128997a20e014214ca8141b6cbdf4d"
  },
  "kernelspec": {
   "display_name": "Python 3.9.7 ('gp2022')",
   "language": "python",
   "name": "python3"
  },
  "language_info": {
   "codemirror_mode": {
    "name": "ipython",
    "version": 3
   },
   "file_extension": ".py",
   "mimetype": "text/x-python",
   "name": "python",
   "nbconvert_exporter": "python",
   "pygments_lexer": "ipython3",
   "version": "3.9.10"
  },
  "orig_nbformat": 4
 },
 "nbformat": 4,
 "nbformat_minor": 2
}
